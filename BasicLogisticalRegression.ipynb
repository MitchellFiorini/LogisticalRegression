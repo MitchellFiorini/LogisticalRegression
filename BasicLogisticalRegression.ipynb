{
 "cells": [
  {
   "cell_type": "code",
   "execution_count": 57,
   "metadata": {},
   "outputs": [],
   "source": [
    "import numpy as np\n",
    "import pandas as pd\n",
    "import matplotlib.pyplot as plt\n",
    "from sklearn.linear_model import LogisticRegression\n",
    "from sklearn.metrics import accuracy_score"
   ]
  },
  {
   "cell_type": "code",
   "execution_count": 58,
   "metadata": {},
   "outputs": [],
   "source": [
    "#import the data \n",
    "data = pd.read_csv(\"scores.txt\", sep=',',names=[\"score1\",\"score2\",\"pass\"])"
   ]
  },
  {
   "cell_type": "code",
   "execution_count": 59,
   "metadata": {},
   "outputs": [
    {
     "name": "stdout",
     "output_type": "stream",
     "text": [
      "(200, 3)\n"
     ]
    },
    {
     "data": {
      "text/html": [
       "<div>\n",
       "<style scoped>\n",
       "    .dataframe tbody tr th:only-of-type {\n",
       "        vertical-align: middle;\n",
       "    }\n",
       "\n",
       "    .dataframe tbody tr th {\n",
       "        vertical-align: top;\n",
       "    }\n",
       "\n",
       "    .dataframe thead th {\n",
       "        text-align: right;\n",
       "    }\n",
       "</style>\n",
       "<table border=\"1\" class=\"dataframe\">\n",
       "  <thead>\n",
       "    <tr style=\"text-align: right;\">\n",
       "      <th></th>\n",
       "      <th>score1</th>\n",
       "      <th>score2</th>\n",
       "      <th>pass</th>\n",
       "    </tr>\n",
       "  </thead>\n",
       "  <tbody>\n",
       "    <tr>\n",
       "      <th>count</th>\n",
       "      <td>200.000000</td>\n",
       "      <td>200.000000</td>\n",
       "      <td>200.000000</td>\n",
       "    </tr>\n",
       "    <tr>\n",
       "      <th>mean</th>\n",
       "      <td>49.065000</td>\n",
       "      <td>50.190000</td>\n",
       "      <td>0.275000</td>\n",
       "    </tr>\n",
       "    <tr>\n",
       "      <th>std</th>\n",
       "      <td>28.433662</td>\n",
       "      <td>28.392509</td>\n",
       "      <td>0.447635</td>\n",
       "    </tr>\n",
       "    <tr>\n",
       "      <th>min</th>\n",
       "      <td>0.000000</td>\n",
       "      <td>0.000000</td>\n",
       "      <td>0.000000</td>\n",
       "    </tr>\n",
       "    <tr>\n",
       "      <th>25%</th>\n",
       "      <td>24.000000</td>\n",
       "      <td>26.750000</td>\n",
       "      <td>0.000000</td>\n",
       "    </tr>\n",
       "    <tr>\n",
       "      <th>50%</th>\n",
       "      <td>49.500000</td>\n",
       "      <td>47.000000</td>\n",
       "      <td>0.000000</td>\n",
       "    </tr>\n",
       "    <tr>\n",
       "      <th>75%</th>\n",
       "      <td>75.000000</td>\n",
       "      <td>74.000000</td>\n",
       "      <td>1.000000</td>\n",
       "    </tr>\n",
       "    <tr>\n",
       "      <th>max</th>\n",
       "      <td>99.000000</td>\n",
       "      <td>99.000000</td>\n",
       "      <td>1.000000</td>\n",
       "    </tr>\n",
       "  </tbody>\n",
       "</table>\n",
       "</div>"
      ],
      "text/plain": [
       "           score1      score2        pass\n",
       "count  200.000000  200.000000  200.000000\n",
       "mean    49.065000   50.190000    0.275000\n",
       "std     28.433662   28.392509    0.447635\n",
       "min      0.000000    0.000000    0.000000\n",
       "25%     24.000000   26.750000    0.000000\n",
       "50%     49.500000   47.000000    0.000000\n",
       "75%     75.000000   74.000000    1.000000\n",
       "max     99.000000   99.000000    1.000000"
      ]
     },
     "execution_count": 59,
     "metadata": {},
     "output_type": "execute_result"
    }
   ],
   "source": [
    "#test the import \n",
    "#data.head()\n",
    "print(data.shape)\n",
    "data.describe()"
   ]
  },
  {
   "cell_type": "code",
   "execution_count": 60,
   "metadata": {},
   "outputs": [],
   "source": [
    "trainX = np.array(data.iloc[:,:2])\n",
    "trainY = np.array(data[\"pass\"])"
   ]
  },
  {
   "cell_type": "code",
   "execution_count": 61,
   "metadata": {},
   "outputs": [
    {
     "name": "stdout",
     "output_type": "stream",
     "text": [
      "(200, 2)\n",
      "(200,)\n"
     ]
    }
   ],
   "source": [
    "#validate array shaped correctly\n",
    "print(trainX.shape)\n",
    "print(trainY.shape)"
   ]
  },
  {
   "cell_type": "code",
   "execution_count": 62,
   "metadata": {},
   "outputs": [],
   "source": [
    "#create it \n",
    "LogReg = LogisticRegression()"
   ]
  },
  {
   "cell_type": "code",
   "execution_count": 63,
   "metadata": {},
   "outputs": [],
   "source": [
    "#documentation on flags etc on \n",
    "#https://scikit-learn.org/stable/modules/generated/sklearn.linear_model.LogisticRegression.html#sklearn.linear_model.LogisticRegression\n"
   ]
  },
  {
   "cell_type": "code",
   "execution_count": 64,
   "metadata": {},
   "outputs": [
    {
     "data": {
      "text/plain": [
       "LogisticRegression(C=1.0, class_weight=None, dual=False, fit_intercept=True,\n",
       "          intercept_scaling=1, max_iter=100, multi_class='ovr', n_jobs=1,\n",
       "          penalty='l2', random_state=None, solver='liblinear', tol=0.0001,\n",
       "          verbose=0, warm_start=False)"
      ]
     },
     "execution_count": 64,
     "metadata": {},
     "output_type": "execute_result"
    }
   ],
   "source": [
    "#train it on the training data\n",
    "LogReg.fit(trainX,trainY)"
   ]
  },
  {
   "cell_type": "code",
   "execution_count": 65,
   "metadata": {},
   "outputs": [],
   "source": [
    "#Testing against seperate file \n",
    "testing = pd.read_csv(\"test.txt\", sep=',',names=[\"score1\",\"score2\",\"pass\"])\n",
    "testingX = np.array(testing.iloc[:,:2])\n",
    "testingY = np.array(testing[\"pass\"])"
   ]
  },
  {
   "cell_type": "code",
   "execution_count": 66,
   "metadata": {},
   "outputs": [
    {
     "name": "stdout",
     "output_type": "stream",
     "text": [
      "0.9\n"
     ]
    }
   ],
   "source": [
    "#test it on the testing data and print accuracy\n",
    "prediction = LogReg.predict(testingX)\n",
    "print(accuracy_score(testingY,prediction))"
   ]
  },
  {
   "cell_type": "code",
   "execution_count": 67,
   "metadata": {},
   "outputs": [],
   "source": [
    "#create dataframe to see prediction vs actual results\n",
    "output = testing\n",
    "output['prediction'] = prediction"
   ]
  },
  {
   "cell_type": "code",
   "execution_count": 68,
   "metadata": {},
   "outputs": [
    {
     "name": "stdout",
     "output_type": "stream",
     "text": [
      "    score1  score2  pass  prediction\n",
      "0       28       3     0           0\n",
      "1        5      42     0           0\n",
      "2       35      45     0           0\n",
      "3       66      26     0           0\n",
      "4       15      76     0           0\n",
      "5       66      89     1           1\n",
      "6        4      87     0           0\n",
      "7       70      83     1           1\n",
      "8       13      51     0           0\n",
      "9       34      62     0           0\n",
      "10      17      25     0           0\n",
      "11      51      23     0           0\n",
      "12      67      37     0           0\n",
      "13      24      63     0           0\n",
      "14      83      28     0           0\n",
      "15      75       5     0           0\n",
      "16      21       9     0           0\n",
      "17      82      66     1           1\n",
      "18       9      94     0           0\n",
      "19      96      27     1           0\n",
      "20      34      41     0           0\n",
      "21      42      79     1           0\n",
      "22      75      43     0           0\n",
      "23      99      99     1           1\n",
      "24      12      46     0           0\n",
      "25      81      19     0           0\n",
      "26       9      31     0           0\n",
      "27      66      28     0           0\n",
      "28      22      18     0           0\n",
      "29      88      64     1           1\n",
      "30      19      65     0           0\n",
      "31      63      50     0           0\n",
      "32      27      25     0           0\n",
      "33      12      62     0           0\n",
      "34      53      69     1           0\n",
      "35      84       1     0           0\n",
      "36      82       5     0           0\n",
      "37      55      62     0           0\n",
      "38      62      10     0           0\n",
      "39      17      86     0           0\n",
      "40      41      83     1           0\n",
      "41      35      22     0           0\n",
      "42      90      88     1           1\n",
      "43      41      11     0           0\n",
      "44      64      28     0           0\n",
      "45      19      47     0           0\n",
      "46      41      83     1           0\n",
      "47      18      55     0           0\n",
      "48      45      66     0           0\n",
      "49      18      46     0           0\n"
     ]
    }
   ],
   "source": [
    "print(output)"
   ]
  },
  {
   "cell_type": "code",
   "execution_count": 72,
   "metadata": {},
   "outputs": [
    {
     "data": {
      "image/png": "[encoded data removed]",
      "text/plain": [
       "<Figure size 288x216 with 1 Axes>"
      ]
     },
     "metadata": {},
     "output_type": "display_data"
    }
   ],
   "source": [
    "#FROM Logistical Regression \n",
    "# Plot the decision boundary. For that, we will assign a color to each\n",
    "# point in the mesh [x_min, x_max]x[y_min, y_max].\n",
    "x_min, x_max = trainX[:, 0].min() - .5, trainX[:, 0].max() + .5\n",
    "y_min, y_max = trainX[:, 1].min() - .5, trainX[:, 1].max() + .5\n",
    "h = .02  # step size in the mesh\n",
    "xx, yy = np.meshgrid(np.arange(x_min, x_max, h), np.arange(y_min, y_max, h))\n",
    "Z = LogReg.predict(np.c_[xx.ravel(), yy.ravel()])\n",
    "\n",
    "# Put the result into a color plot\n",
    "Z = Z.reshape(xx.shape)\n",
    "plt.figure(1, figsize=(4, 3))\n",
    "plt.pcolormesh(xx, yy, Z, cmap=plt.cm.Paired)\n",
    "\n",
    "# Plot also the training points\n",
    "plt.scatter(trainX[:, 0], trainX[:, 1], c=trainY, edgecolors='k', cmap=plt.cm.Paired)\n",
    "plt.xlabel('score1')\n",
    "plt.ylabel('score2')\n",
    "\n",
    "plt.xlim(xx.min(), xx.max())\n",
    "plt.ylim(yy.min(), yy.max())\n",
    "plt.xticks(())\n",
    "plt.yticks(())\n",
    "\n",
    "plt.show()"
   ]
  },
  {
   "cell_type": "code",
   "execution_count": null,
   "metadata": {},
   "outputs": [],
   "source": []
  }
 ],
 "metadata": {
  "kernelspec": {
   "display_name": "Python 3",
   "language": "python",
   "name": "python3"
  },
  "language_info": {
   "codemirror_mode": {
    "name": "ipython",
    "version": 3
   },
   "file_extension": ".py",
   "mimetype": "text/x-python",
   "name": "python",
   "nbconvert_exporter": "python",
   "pygments_lexer": "ipython3",
   "version": "3.6.5"
  }
 },
 "nbformat": 4,
 "nbformat_minor": 2
}
